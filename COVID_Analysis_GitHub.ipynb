{
 "cells": [
  {
   "cell_type": "markdown",
   "metadata": {},
   "source": [
    "# Coronavirus Map"
   ]
  },
  {
   "cell_type": "markdown",
   "metadata": {},
   "source": [
    "#### Author: Chandana Karunaratne\n",
    "#### Date: 28 April 2020\n",
    "#### Description: This code generates an interactive map of coronavirus cases in Ontario, Canada, using daily-updated data from the Government of Ontario Data Catalogue.\n"
   ]
  },
  {
   "cell_type": "code",
   "execution_count": 1,
   "metadata": {},
   "outputs": [
    {
     "name": "stdout",
     "output_type": "stream",
     "text": [
      "Hello, friend\n"
     ]
    }
   ],
   "source": [
    "print(\"Hello, friend\")"
   ]
  },
  {
   "cell_type": "code",
   "execution_count": 2,
   "metadata": {},
   "outputs": [],
   "source": [
    "import numpy as np\n",
    "import pandas as pd\n",
    "from datetime import datetime\n",
    "import plotly.express as px\n",
    "import plotly.io as pio\n"
   ]
  },
  {
   "cell_type": "code",
   "execution_count": 3,
   "metadata": {},
   "outputs": [],
   "source": [
    "# Download data from: https://data.ontario.ca/dataset/confirmed-positive-cases-of-covid-19-in-ontario\n",
    "\n",
    "# Open file containing data and read into dataframe:\n",
    "\n",
    "covid_df = pd.read_csv('filepath/filename.csv')\n"
   ]
  },
  {
   "cell_type": "code",
   "execution_count": 4,
   "metadata": {},
   "outputs": [
    {
     "data": {
      "text/plain": [
       "15381"
      ]
     },
     "execution_count": 4,
     "metadata": {},
     "output_type": "execute_result"
    }
   ],
   "source": [
    "# Check length (number of rows) in data file:\n",
    "\n",
    "len(covid_df)\n"
   ]
  },
  {
   "cell_type": "code",
   "execution_count": 5,
   "metadata": {},
   "outputs": [
    {
     "data": {
      "text/html": [
       "<div>\n",
       "<style scoped>\n",
       "    .dataframe tbody tr th:only-of-type {\n",
       "        vertical-align: middle;\n",
       "    }\n",
       "\n",
       "    .dataframe tbody tr th {\n",
       "        vertical-align: top;\n",
       "    }\n",
       "\n",
       "    .dataframe thead th {\n",
       "        text-align: right;\n",
       "    }\n",
       "</style>\n",
       "<table border=\"1\" class=\"dataframe\">\n",
       "  <thead>\n",
       "    <tr style=\"text-align: right;\">\n",
       "      <th></th>\n",
       "      <th>Row_ID</th>\n",
       "      <th>Accurate_Episode_Date</th>\n",
       "      <th>Age_Group</th>\n",
       "      <th>Client_Gender</th>\n",
       "      <th>Case_AcquisitionInfo</th>\n",
       "      <th>Outcome1</th>\n",
       "      <th>Reporting_PHU</th>\n",
       "      <th>Reporting_PHU_Address</th>\n",
       "      <th>Reporting_PHU_City</th>\n",
       "      <th>Reporting_PHU_Postal_Code</th>\n",
       "      <th>Reporting_PHU_Website</th>\n",
       "      <th>Reporting_PHU_Latitude</th>\n",
       "      <th>Reporting_PHU_Longitude</th>\n",
       "    </tr>\n",
       "  </thead>\n",
       "  <tbody>\n",
       "    <tr>\n",
       "      <td>0</td>\n",
       "      <td>1</td>\n",
       "      <td>2020-01-22</td>\n",
       "      <td>50s</td>\n",
       "      <td>FEMALE</td>\n",
       "      <td>Travel-Related</td>\n",
       "      <td>Resolved</td>\n",
       "      <td>Toronto Public Health</td>\n",
       "      <td>277 Victoria Street, 5th Floor</td>\n",
       "      <td>Toronto</td>\n",
       "      <td>M5B 1W2</td>\n",
       "      <td>www.toronto.ca/community-people/health-wellnes...</td>\n",
       "      <td>43.656591</td>\n",
       "      <td>-79.379358</td>\n",
       "    </tr>\n",
       "    <tr>\n",
       "      <td>1</td>\n",
       "      <td>2</td>\n",
       "      <td>2020-01-21</td>\n",
       "      <td>50s</td>\n",
       "      <td>MALE</td>\n",
       "      <td>Travel-Related</td>\n",
       "      <td>Resolved</td>\n",
       "      <td>Toronto Public Health</td>\n",
       "      <td>277 Victoria Street, 5th Floor</td>\n",
       "      <td>Toronto</td>\n",
       "      <td>M5B 1W2</td>\n",
       "      <td>www.toronto.ca/community-people/health-wellnes...</td>\n",
       "      <td>43.656591</td>\n",
       "      <td>-79.379358</td>\n",
       "    </tr>\n",
       "    <tr>\n",
       "      <td>2</td>\n",
       "      <td>3</td>\n",
       "      <td>2020-01-24</td>\n",
       "      <td>20s</td>\n",
       "      <td>FEMALE</td>\n",
       "      <td>Travel-Related</td>\n",
       "      <td>Resolved</td>\n",
       "      <td>Middlesex-London Health Unit</td>\n",
       "      <td>50 King Street</td>\n",
       "      <td>London</td>\n",
       "      <td>N6A 5L7</td>\n",
       "      <td>www.healthunit.com</td>\n",
       "      <td>42.981468</td>\n",
       "      <td>-81.254016</td>\n",
       "    </tr>\n",
       "    <tr>\n",
       "      <td>3</td>\n",
       "      <td>4</td>\n",
       "      <td>2020-02-05</td>\n",
       "      <td>20s</td>\n",
       "      <td>FEMALE</td>\n",
       "      <td>Travel-Related</td>\n",
       "      <td>Resolved</td>\n",
       "      <td>Toronto Public Health</td>\n",
       "      <td>277 Victoria Street, 5th Floor</td>\n",
       "      <td>Toronto</td>\n",
       "      <td>M5B 1W2</td>\n",
       "      <td>www.toronto.ca/community-people/health-wellnes...</td>\n",
       "      <td>43.656591</td>\n",
       "      <td>-79.379358</td>\n",
       "    </tr>\n",
       "    <tr>\n",
       "      <td>4</td>\n",
       "      <td>5</td>\n",
       "      <td>2020-02-16</td>\n",
       "      <td>60s</td>\n",
       "      <td>FEMALE</td>\n",
       "      <td>Travel-Related</td>\n",
       "      <td>Resolved</td>\n",
       "      <td>Toronto Public Health</td>\n",
       "      <td>277 Victoria Street, 5th Floor</td>\n",
       "      <td>Toronto</td>\n",
       "      <td>M5B 1W2</td>\n",
       "      <td>www.toronto.ca/community-people/health-wellnes...</td>\n",
       "      <td>43.656591</td>\n",
       "      <td>-79.379358</td>\n",
       "    </tr>\n",
       "  </tbody>\n",
       "</table>\n",
       "</div>"
      ],
      "text/plain": [
       "   Row_ID Accurate_Episode_Date Age_Group Client_Gender Case_AcquisitionInfo  \\\n",
       "0       1            2020-01-22       50s        FEMALE       Travel-Related   \n",
       "1       2            2020-01-21       50s          MALE       Travel-Related   \n",
       "2       3            2020-01-24       20s        FEMALE       Travel-Related   \n",
       "3       4            2020-02-05       20s        FEMALE       Travel-Related   \n",
       "4       5            2020-02-16       60s        FEMALE       Travel-Related   \n",
       "\n",
       "   Outcome1                 Reporting_PHU           Reporting_PHU_Address  \\\n",
       "0  Resolved         Toronto Public Health  277 Victoria Street, 5th Floor   \n",
       "1  Resolved         Toronto Public Health  277 Victoria Street, 5th Floor   \n",
       "2  Resolved  Middlesex-London Health Unit                  50 King Street   \n",
       "3  Resolved         Toronto Public Health  277 Victoria Street, 5th Floor   \n",
       "4  Resolved         Toronto Public Health  277 Victoria Street, 5th Floor   \n",
       "\n",
       "  Reporting_PHU_City Reporting_PHU_Postal_Code  \\\n",
       "0            Toronto                   M5B 1W2   \n",
       "1            Toronto                   M5B 1W2   \n",
       "2             London                   N6A 5L7   \n",
       "3            Toronto                   M5B 1W2   \n",
       "4            Toronto                   M5B 1W2   \n",
       "\n",
       "                               Reporting_PHU_Website  Reporting_PHU_Latitude  \\\n",
       "0  www.toronto.ca/community-people/health-wellnes...               43.656591   \n",
       "1  www.toronto.ca/community-people/health-wellnes...               43.656591   \n",
       "2                                 www.healthunit.com               42.981468   \n",
       "3  www.toronto.ca/community-people/health-wellnes...               43.656591   \n",
       "4  www.toronto.ca/community-people/health-wellnes...               43.656591   \n",
       "\n",
       "   Reporting_PHU_Longitude  \n",
       "0               -79.379358  \n",
       "1               -79.379358  \n",
       "2               -81.254016  \n",
       "3               -79.379358  \n",
       "4               -79.379358  "
      ]
     },
     "execution_count": 5,
     "metadata": {},
     "output_type": "execute_result"
    }
   ],
   "source": [
    "# Show first 5 rows of data:\n",
    "\n",
    "covid_df.head(5)\n"
   ]
  },
  {
   "cell_type": "code",
   "execution_count": 6,
   "metadata": {},
   "outputs": [],
   "source": [
    "# Group the data by 'Reporting_PHU' and then by 'Accurate_Episode_Date' and then convert this series to a dataframe:\n",
    "\n",
    "covid_count_df = covid_df.groupby('Reporting_PHU')['Accurate_Episode_Date'].value_counts().to_frame()\n"
   ]
  },
  {
   "cell_type": "code",
   "execution_count": 7,
   "metadata": {},
   "outputs": [],
   "source": [
    "# Rename the 'Accurate_Episode_Date' column to 'Count':\n",
    "\n",
    "covid_count_df.rename(columns = {'Accurate_Episode_Date':'Count'}, inplace = True)\n"
   ]
  },
  {
   "cell_type": "code",
   "execution_count": 8,
   "metadata": {},
   "outputs": [],
   "source": [
    "# Flatten the hierarchical column indexes:\n",
    "\n",
    "covid_count_df.reset_index(inplace=True)\n"
   ]
  },
  {
   "cell_type": "code",
   "execution_count": 9,
   "metadata": {},
   "outputs": [],
   "source": [
    "# Create a dataframe containing latitude and longitude for each PHU:\n",
    "\n",
    "PHU_df = covid_df.groupby('Reporting_PHU').first().reset_index()\n"
   ]
  },
  {
   "cell_type": "code",
   "execution_count": 10,
   "metadata": {},
   "outputs": [],
   "source": [
    "# Drop all columns except for 'Reporting_PHU', 'Reporting_PHU_Latitude', 'Reporting_PHU_Longitude':\n",
    "\n",
    "PHU_df = PHU_df[['Reporting_PHU', 'Reporting_PHU_Latitude', 'Reporting_PHU_Longitude']]\n"
   ]
  },
  {
   "cell_type": "code",
   "execution_count": 11,
   "metadata": {},
   "outputs": [],
   "source": [
    "# Merge 'covid_count_df' and 'PHU_df':\n",
    "\n",
    "covid_final_df = covid_count_df.merge(PHU_df, how = 'left', left_on = 'Reporting_PHU', right_on = 'Reporting_PHU')\n"
   ]
  },
  {
   "cell_type": "code",
   "execution_count": 12,
   "metadata": {},
   "outputs": [],
   "source": [
    "# Convert string values in 'Accurate_Episode_Date' to datetime (infer datetime format) values:\n",
    "\n",
    "covid_final_df['Accurate_Episode_Date'] = pd.to_datetime(covid_final_df['Accurate_Episode_Date'], infer_datetime_format=True)\n"
   ]
  },
  {
   "cell_type": "code",
   "execution_count": 13,
   "metadata": {},
   "outputs": [],
   "source": [
    "# Sort 'covid_final_df' dataframe by 'Accurate_Episode_Date' and then 'Reporting_PHU':\n",
    "\n",
    "covid_final_df = covid_final_df.sort_values([\"Accurate_Episode_Date\", \"Reporting_PHU\"], ascending = (True, True))\n",
    "\n",
    "# Reset index in dataframe:\n",
    "\n",
    "covid_final_df = covid_final_df.reset_index(drop=True)\n"
   ]
  },
  {
   "cell_type": "code",
   "execution_count": 14,
   "metadata": {},
   "outputs": [],
   "source": [
    "# Convert all datetime values to string values (only day and month) to enable plotly time-series plot:\n",
    "\n",
    "covid_final_df['Accurate_Episode_Date'] = covid_final_df.Accurate_Episode_Date.dt.strftime('%d %b')\n"
   ]
  },
  {
   "cell_type": "code",
   "execution_count": 15,
   "metadata": {},
   "outputs": [],
   "source": [
    "# Rename columns so that map is easier to understand:\n",
    "\n",
    "covid_final_df.columns = ['Public Health Unit', 'Date', 'Number of Cases', 'PHU Latitude', 'PHU Longitude']\n"
   ]
  },
  {
   "cell_type": "code",
   "execution_count": 16,
   "metadata": {},
   "outputs": [],
   "source": [
    "# Get today's date (to be used as part of chart title):\n",
    "\n",
    "current_date = datetime.today().strftime('%d %B')\n"
   ]
  },
  {
   "cell_type": "code",
   "execution_count": null,
   "metadata": {},
   "outputs": [],
   "source": [
    "# Specify all parameters for map visualization:\n",
    "\n",
    "fig = px.scatter_mapbox(covid_final_df, \n",
    "                     size=\"Number of Cases\",\n",
    "                     hover_name=\"Public Health Unit\",\n",
    "                     animation_frame=\"Date\",\n",
    "                     lat = \"PHU Latitude\",\n",
    "                     lon = \"PHU Longitude\",\n",
    "                     color_discrete_sequence=[\"crimson\"],\n",
    "                     title = \"Interactive Map of Coronavirus Cases in Ontario (1 January - %s 2020)\" %current_date,\n",
    "                     zoom=5, \n",
    "                     height=600)\n",
    "\n",
    "# Use Open Street Map as base map:\n",
    "\n",
    "fig.update_layout(mapbox_style=\"open-street-map\")\n",
    "\n",
    "# Adjust margins on top, left, and right:\n",
    "\n",
    "fig.update_layout(margin={\"r\":150,\"t\":40,\"l\":150,\"b\":0})\n",
    "\n",
    "# Center title and increase font size:\n",
    "\n",
    "fig.update_layout(title={'x':0.5,'xanchor':'center','font':{'size':20}})\n",
    "\n",
    "# Increase frame duration so that length of time on each frame is increased (in milliseconds)\n",
    "\n",
    "fig.layout.updatemenus[0].buttons[0].args[1]['frame']['duration'] = 200\n",
    "\n",
    "# Increase transition duration so that length of time between frames is increased (in milliseconds)\n",
    "\n",
    "fig.layout.updatemenus[0].buttons[0].args[1]['transition']['duration'] = 200\n",
    "\n",
    "fig.show()\n"
   ]
  },
  {
   "cell_type": "code",
   "execution_count": 18,
   "metadata": {},
   "outputs": [],
   "source": [
    "# Create html file featuring chart to use on webpage:\n",
    "\n",
    "# Source: https://towardsdatascience.com/how-to-create-a-plotly-visualization-and-embed-it-on-websites-517c1a78568b\n",
    "\n",
    "# Ensure that filename is 'index.html'\n",
    "# Parameter 'auto_open' refers to whether the html file will automatically open in a new tab\n",
    "# Parameter 'auto-play' refers to whether the html file (and animation) will automatically play when file is opened\n",
    "\n",
    "pio.write_html(fig, file='filepath/index.html', auto_open=True, auto_play=False)\n"
   ]
  },
  {
   "cell_type": "code",
   "execution_count": null,
   "metadata": {},
   "outputs": [],
   "source": []
  },
  {
   "cell_type": "code",
   "execution_count": 19,
   "metadata": {},
   "outputs": [],
   "source": [
    "# Sources:\n",
    "# 1) https://data.ontario.ca/dataset/confirmed-positive-cases-of-covid-19-in-ontario\n",
    "# 2) https://towardsdatascience.com/how-to-create-a-plotly-visualization-and-embed-it-on-websites-517c1a78568b\n",
    "# 3) https://plotly.com/python/scatter-plots-on-maps/\n",
    "# 4) https://plotly.com/python/bubble-maps/\n",
    "# 5) https://plotly.com/python-api-reference/generated/plotly.express.scatter_geo.html\n",
    "# 6) https://plotly.com/python/mapbox-layers/\n",
    "# 7) https://www.youtube.com/watch?v=RCUrpCpGZ5o&feature=youtu.be\n",
    "# 8) https://github.com/Coding-with-Adam/Dash-by-Plotly/blob/master/Plotly_Graphs/Animated_Scatter/gender_ineq.py\n",
    "# 9) https://github.com/plotly/plotly.py/pull/1447/commits/b8a731ea6e0d56203833c10e90926473ed783032\n",
    "# 10) https://docs.python.org/3/library/datetime.html\n",
    "\n"
   ]
  },
  {
   "cell_type": "code",
   "execution_count": null,
   "metadata": {},
   "outputs": [],
   "source": []
  }
 ],
 "metadata": {
  "kernelspec": {
   "display_name": "Python 3",
   "language": "python",
   "name": "python3"
  },
  "language_info": {
   "codemirror_mode": {
    "name": "ipython",
    "version": 3
   },
   "file_extension": ".py",
   "mimetype": "text/x-python",
   "name": "python",
   "nbconvert_exporter": "python",
   "pygments_lexer": "ipython3",
   "version": "3.7.4"
  }
 },
 "nbformat": 4,
 "nbformat_minor": 2
}
