{
 "cells": [
  {
   "cell_type": "markdown",
   "metadata": {},
   "source": [
    "# Coronavirus Map"
   ]
  },
  {
   "cell_type": "markdown",
   "metadata": {},
   "source": [
    "#### Author: Chandana Karunaratne\n",
    "#### Date: 28 April 2020\n",
    "#### Description: This code generates an interactive map of coronavirus cases in Ontario, Canada, using daily-updated data from the Government of Ontario Data Catalogue.\n"
   ]
  },
  {
   "cell_type": "code",
   "execution_count": 1,
   "metadata": {},
   "outputs": [
    {
     "name": "stdout",
     "output_type": "stream",
     "text": [
      "Hello, friend\n"
     ]
    }
   ],
   "source": [
    "print(\"Hello, friend\")"
   ]
  },
  {
   "cell_type": "code",
   "execution_count": 2,
   "metadata": {},
   "outputs": [],
   "source": [
    "import numpy as np\n",
    "import pandas as pd\n",
    "from datetime import datetime\n",
    "import plotly.express as px\n",
    "import plotly.io as pio\n",
    "import bs4\n",
    "import urllib.request\n",
    "from io import StringIO\n"
   ]
  },
  {
   "cell_type": "code",
   "execution_count": 3,
   "metadata": {},
   "outputs": [],
   "source": [
    "# Download the raw data directly from the online API (set the query limit to 100,000):\n",
    "# Source: https://data.ontario.ca/dataset/confirmed-positive-cases-of-covid-19-in-ontario/resource/455fd63b-603d-4608-8216-7d8647f43350\n",
    "\n",
    "with urllib.request.urlopen(\"https://data.ontario.ca/api/3/action/datastore_search?resource_id=455fd63b-603d-4608-8216-7d8647f43350&limit=100000\") as url:\n",
    "    raw_data_online = url.read()\n"
   ]
  },
  {
   "cell_type": "code",
   "execution_count": 4,
   "metadata": {},
   "outputs": [],
   "source": [
    "# Convert the raw data into a string:\n",
    "\n",
    "raw_data_string = str(raw_data_online,'utf-8')\n"
   ]
  },
  {
   "cell_type": "code",
   "execution_count": 5,
   "metadata": {},
   "outputs": [],
   "source": [
    "# Delete the header and footer in the raw data (all characters leading up to the second '[' character (header) and \n",
    "# all characters after the first ']'character (footer)):\n",
    "# (The following line of code first splits the 'raw_data_string' string by the '[' character, then takes the resulting \n",
    "# third substring, then splits this substring by the ']' character, then takes the resulting first substring, and finally \n",
    "# assigns this resulting substring to \"raw_data_json\")\n",
    "\n",
    "raw_data_json = raw_data_string.split('[')[2].lstrip().split(']')[0]\n"
   ]
  },
  {
   "cell_type": "code",
   "execution_count": 6,
   "metadata": {},
   "outputs": [],
   "source": [
    "# Write the 'raw_data' json string into a file:\n",
    "\n",
    "text_file = open(r\"filepath/filename.json\",\"w\")\n",
    "\n",
    "n = text_file.write(raw_data_json)\n",
    "\n",
    "text_file.close()\n"
   ]
  },
  {
   "cell_type": "code",
   "execution_count": 7,
   "metadata": {},
   "outputs": [],
   "source": [
    "# Open the 'Raw_Data.json' file into a Pandas dataframe:\n",
    "# The parameter, 'lines=True', refers to reading the file as a json object per line (see documentation: https://pandas.pydata.org/pandas-docs/version/0.23.4/generated/pandas.read_json.html)\n",
    "\n",
    "covid_df = pd.read_json (r'filepath/filename.json', lines=True) \n"
   ]
  },
  {
   "cell_type": "code",
   "execution_count": 8,
   "metadata": {},
   "outputs": [],
   "source": [
    "# Get today's date (to be used as part of file name):\n",
    "\n",
    "current_date = datetime.today().strftime('%d_%B')\n",
    "\n",
    "# Save a copy of the data as a csv file:\n",
    "\n",
    "covid_df.to_csv(r'filepath/filename.csv' %current_date, encoding='utf-8')\n"
   ]
  },
  {
   "cell_type": "code",
   "execution_count": 9,
   "metadata": {},
   "outputs": [
    {
     "data": {
      "text/plain": [
       "18310"
      ]
     },
     "execution_count": 9,
     "metadata": {},
     "output_type": "execute_result"
    }
   ],
   "source": [
    "# Check length (number of rows) of dataframe:\n",
    "\n",
    "len(covid_df)\n"
   ]
  },
  {
   "cell_type": "code",
   "execution_count": 10,
   "metadata": {},
   "outputs": [
    {
     "data": {
      "text/html": [
       "<div>\n",
       "<style scoped>\n",
       "    .dataframe tbody tr th:only-of-type {\n",
       "        vertical-align: middle;\n",
       "    }\n",
       "\n",
       "    .dataframe tbody tr th {\n",
       "        vertical-align: top;\n",
       "    }\n",
       "\n",
       "    .dataframe thead th {\n",
       "        text-align: right;\n",
       "    }\n",
       "</style>\n",
       "<table border=\"1\" class=\"dataframe\">\n",
       "  <thead>\n",
       "    <tr style=\"text-align: right;\">\n",
       "      <th></th>\n",
       "      <th>_id</th>\n",
       "      <th>Row_ID</th>\n",
       "      <th>Accurate_Episode_Date</th>\n",
       "      <th>Age_Group</th>\n",
       "      <th>Client_Gender</th>\n",
       "      <th>Case_AcquisitionInfo</th>\n",
       "      <th>Outcome1</th>\n",
       "      <th>Reporting_PHU</th>\n",
       "      <th>Reporting_PHU_Address</th>\n",
       "      <th>Reporting_PHU_City</th>\n",
       "      <th>Reporting_PHU_Postal_Code</th>\n",
       "      <th>Reporting_PHU_Website</th>\n",
       "      <th>Reporting_PHU_Latitude</th>\n",
       "      <th>Reporting_PHU_Longitude</th>\n",
       "    </tr>\n",
       "  </thead>\n",
       "  <tbody>\n",
       "    <tr>\n",
       "      <td>0</td>\n",
       "      <td>1</td>\n",
       "      <td>1</td>\n",
       "      <td>2020-04-04T00:00:00</td>\n",
       "      <td>20s</td>\n",
       "      <td>MALE</td>\n",
       "      <td>Information pending</td>\n",
       "      <td>Resolved</td>\n",
       "      <td>Peel Public Health</td>\n",
       "      <td>7120 Hurontario Street</td>\n",
       "      <td>Mississauga</td>\n",
       "      <td>L5W 1N4</td>\n",
       "      <td>www.peelregion.ca/health/</td>\n",
       "      <td>43.647471</td>\n",
       "      <td>-79.708893</td>\n",
       "    </tr>\n",
       "    <tr>\n",
       "      <td>1</td>\n",
       "      <td>2</td>\n",
       "      <td>2</td>\n",
       "      <td>2020-04-04T00:00:00</td>\n",
       "      <td>60s</td>\n",
       "      <td>FEMALE</td>\n",
       "      <td>Information pending</td>\n",
       "      <td>Resolved</td>\n",
       "      <td>Peel Public Health</td>\n",
       "      <td>7120 Hurontario Street</td>\n",
       "      <td>Mississauga</td>\n",
       "      <td>L5W 1N4</td>\n",
       "      <td>www.peelregion.ca/health/</td>\n",
       "      <td>43.647471</td>\n",
       "      <td>-79.708893</td>\n",
       "    </tr>\n",
       "    <tr>\n",
       "      <td>2</td>\n",
       "      <td>3</td>\n",
       "      <td>3</td>\n",
       "      <td>2020-04-02T00:00:00</td>\n",
       "      <td>90s</td>\n",
       "      <td>FEMALE</td>\n",
       "      <td>Neither</td>\n",
       "      <td>Resolved</td>\n",
       "      <td>Windsor-Essex County Health Unit</td>\n",
       "      <td>1005 Ouellette Avenue</td>\n",
       "      <td>Windsor</td>\n",
       "      <td>N9A 4J8</td>\n",
       "      <td>www.wechu.org</td>\n",
       "      <td>42.308796</td>\n",
       "      <td>-83.033670</td>\n",
       "    </tr>\n",
       "    <tr>\n",
       "      <td>3</td>\n",
       "      <td>4</td>\n",
       "      <td>4</td>\n",
       "      <td>2020-03-31T00:00:00</td>\n",
       "      <td>30s</td>\n",
       "      <td>FEMALE</td>\n",
       "      <td>Neither</td>\n",
       "      <td>Resolved</td>\n",
       "      <td>Peterborough Public Health</td>\n",
       "      <td>185 King Street</td>\n",
       "      <td>Peterborough</td>\n",
       "      <td>K9J 2R8</td>\n",
       "      <td>www.peterboroughpublichealth.ca</td>\n",
       "      <td>44.301632</td>\n",
       "      <td>-78.321347</td>\n",
       "    </tr>\n",
       "    <tr>\n",
       "      <td>4</td>\n",
       "      <td>5</td>\n",
       "      <td>5</td>\n",
       "      <td>2020-04-03T00:00:00</td>\n",
       "      <td>50s</td>\n",
       "      <td>MALE</td>\n",
       "      <td>Information pending</td>\n",
       "      <td>Resolved</td>\n",
       "      <td>Peel Public Health</td>\n",
       "      <td>7120 Hurontario Street</td>\n",
       "      <td>Mississauga</td>\n",
       "      <td>L5W 1N4</td>\n",
       "      <td>www.peelregion.ca/health/</td>\n",
       "      <td>43.647471</td>\n",
       "      <td>-79.708893</td>\n",
       "    </tr>\n",
       "  </tbody>\n",
       "</table>\n",
       "</div>"
      ],
      "text/plain": [
       "   _id  Row_ID Accurate_Episode_Date Age_Group Client_Gender  \\\n",
       "0    1       1   2020-04-04T00:00:00       20s          MALE   \n",
       "1    2       2   2020-04-04T00:00:00       60s        FEMALE   \n",
       "2    3       3   2020-04-02T00:00:00       90s        FEMALE   \n",
       "3    4       4   2020-03-31T00:00:00       30s        FEMALE   \n",
       "4    5       5   2020-04-03T00:00:00       50s          MALE   \n",
       "\n",
       "  Case_AcquisitionInfo  Outcome1                     Reporting_PHU  \\\n",
       "0  Information pending  Resolved                Peel Public Health   \n",
       "1  Information pending  Resolved                Peel Public Health   \n",
       "2              Neither  Resolved  Windsor-Essex County Health Unit   \n",
       "3              Neither  Resolved        Peterborough Public Health   \n",
       "4  Information pending  Resolved                Peel Public Health   \n",
       "\n",
       "    Reporting_PHU_Address Reporting_PHU_City Reporting_PHU_Postal_Code  \\\n",
       "0  7120 Hurontario Street        Mississauga                   L5W 1N4   \n",
       "1  7120 Hurontario Street        Mississauga                   L5W 1N4   \n",
       "2   1005 Ouellette Avenue            Windsor                   N9A 4J8   \n",
       "3         185 King Street       Peterborough                   K9J 2R8   \n",
       "4  7120 Hurontario Street        Mississauga                   L5W 1N4   \n",
       "\n",
       "             Reporting_PHU_Website  Reporting_PHU_Latitude  \\\n",
       "0        www.peelregion.ca/health/               43.647471   \n",
       "1        www.peelregion.ca/health/               43.647471   \n",
       "2                    www.wechu.org               42.308796   \n",
       "3  www.peterboroughpublichealth.ca               44.301632   \n",
       "4        www.peelregion.ca/health/               43.647471   \n",
       "\n",
       "   Reporting_PHU_Longitude  \n",
       "0               -79.708893  \n",
       "1               -79.708893  \n",
       "2               -83.033670  \n",
       "3               -78.321347  \n",
       "4               -79.708893  "
      ]
     },
     "execution_count": 10,
     "metadata": {},
     "output_type": "execute_result"
    }
   ],
   "source": [
    "# Show first 5 rows of data:\n",
    "\n",
    "covid_df.head(5)\n"
   ]
  },
  {
   "cell_type": "code",
   "execution_count": 11,
   "metadata": {},
   "outputs": [],
   "source": [
    "# Group the data by 'Reporting_PHU' and then by 'Accurate_Episode_Date' and then convert this series to a dataframe:\n",
    "\n",
    "covid_count_df = covid_df.groupby('Reporting_PHU')['Accurate_Episode_Date'].value_counts().to_frame()\n"
   ]
  },
  {
   "cell_type": "code",
   "execution_count": 12,
   "metadata": {},
   "outputs": [],
   "source": [
    "# Rename the 'Accurate_Episode_Date' column to 'Count':\n",
    "\n",
    "covid_count_df.rename(columns = {'Accurate_Episode_Date':'Count'}, inplace = True)\n"
   ]
  },
  {
   "cell_type": "code",
   "execution_count": 13,
   "metadata": {},
   "outputs": [],
   "source": [
    "# Flatten the hierarchical column indexes:\n",
    "\n",
    "covid_count_df.reset_index(inplace=True)\n"
   ]
  },
  {
   "cell_type": "code",
   "execution_count": 14,
   "metadata": {},
   "outputs": [],
   "source": [
    "# Create a dataframe containing latitude and longitude for each PHU:\n",
    "\n",
    "PHU_df = covid_df.groupby('Reporting_PHU').first().reset_index()\n"
   ]
  },
  {
   "cell_type": "code",
   "execution_count": 15,
   "metadata": {},
   "outputs": [],
   "source": [
    "# Drop all columns except for 'Reporting_PHU', 'Reporting_PHU_Latitude', 'Reporting_PHU_Longitude':\n",
    "\n",
    "PHU_df = PHU_df[['Reporting_PHU', 'Reporting_PHU_Latitude', 'Reporting_PHU_Longitude']]\n"
   ]
  },
  {
   "cell_type": "code",
   "execution_count": 16,
   "metadata": {},
   "outputs": [],
   "source": [
    "# Merge 'covid_count_df' and 'PHU_df':\n",
    "\n",
    "covid_final_df = covid_count_df.merge(PHU_df, how = 'left', left_on = 'Reporting_PHU', right_on = 'Reporting_PHU')\n"
   ]
  },
  {
   "cell_type": "code",
   "execution_count": 17,
   "metadata": {},
   "outputs": [],
   "source": [
    "# If 'Accurate_Episode_Date' does not feature year in YYYY format (i.e. if it does not contain '2020'), \n",
    "# then append '20' to end of all dates so that date can be inferred:\n",
    "\n",
    "if not '2020' in covid_final_df['Accurate_Episode_Date'][2]:\n",
    "    covid_final_df['Accurate_Episode_Date'] = covid_final_df['Accurate_Episode_Date'].astype(str) + '20'\n"
   ]
  },
  {
   "cell_type": "code",
   "execution_count": 18,
   "metadata": {},
   "outputs": [
    {
     "data": {
      "text/html": [
       "<div>\n",
       "<style scoped>\n",
       "    .dataframe tbody tr th:only-of-type {\n",
       "        vertical-align: middle;\n",
       "    }\n",
       "\n",
       "    .dataframe tbody tr th {\n",
       "        vertical-align: top;\n",
       "    }\n",
       "\n",
       "    .dataframe thead th {\n",
       "        text-align: right;\n",
       "    }\n",
       "</style>\n",
       "<table border=\"1\" class=\"dataframe\">\n",
       "  <thead>\n",
       "    <tr style=\"text-align: right;\">\n",
       "      <th></th>\n",
       "      <th>Reporting_PHU</th>\n",
       "      <th>Accurate_Episode_Date</th>\n",
       "      <th>Count</th>\n",
       "      <th>Reporting_PHU_Latitude</th>\n",
       "      <th>Reporting_PHU_Longitude</th>\n",
       "    </tr>\n",
       "  </thead>\n",
       "  <tbody>\n",
       "    <tr>\n",
       "      <td>0</td>\n",
       "      <td>Algoma Public Health Unit</td>\n",
       "      <td>2020-03-20T00:00:00</td>\n",
       "      <td>2</td>\n",
       "      <td>46.532373</td>\n",
       "      <td>-84.314836</td>\n",
       "    </tr>\n",
       "    <tr>\n",
       "      <td>1</td>\n",
       "      <td>Algoma Public Health Unit</td>\n",
       "      <td>2020-03-22T00:00:00</td>\n",
       "      <td>2</td>\n",
       "      <td>46.532373</td>\n",
       "      <td>-84.314836</td>\n",
       "    </tr>\n",
       "    <tr>\n",
       "      <td>2</td>\n",
       "      <td>Algoma Public Health Unit</td>\n",
       "      <td>2020-03-23T00:00:00</td>\n",
       "      <td>2</td>\n",
       "      <td>46.532373</td>\n",
       "      <td>-84.314836</td>\n",
       "    </tr>\n",
       "    <tr>\n",
       "      <td>3</td>\n",
       "      <td>Algoma Public Health Unit</td>\n",
       "      <td>2020-03-08T00:00:00</td>\n",
       "      <td>1</td>\n",
       "      <td>46.532373</td>\n",
       "      <td>-84.314836</td>\n",
       "    </tr>\n",
       "    <tr>\n",
       "      <td>4</td>\n",
       "      <td>Algoma Public Health Unit</td>\n",
       "      <td>2020-03-15T00:00:00</td>\n",
       "      <td>1</td>\n",
       "      <td>46.532373</td>\n",
       "      <td>-84.314836</td>\n",
       "    </tr>\n",
       "  </tbody>\n",
       "</table>\n",
       "</div>"
      ],
      "text/plain": [
       "               Reporting_PHU Accurate_Episode_Date  Count  \\\n",
       "0  Algoma Public Health Unit   2020-03-20T00:00:00      2   \n",
       "1  Algoma Public Health Unit   2020-03-22T00:00:00      2   \n",
       "2  Algoma Public Health Unit   2020-03-23T00:00:00      2   \n",
       "3  Algoma Public Health Unit   2020-03-08T00:00:00      1   \n",
       "4  Algoma Public Health Unit   2020-03-15T00:00:00      1   \n",
       "\n",
       "   Reporting_PHU_Latitude  Reporting_PHU_Longitude  \n",
       "0               46.532373               -84.314836  \n",
       "1               46.532373               -84.314836  \n",
       "2               46.532373               -84.314836  \n",
       "3               46.532373               -84.314836  \n",
       "4               46.532373               -84.314836  "
      ]
     },
     "execution_count": 18,
     "metadata": {},
     "output_type": "execute_result"
    }
   ],
   "source": [
    "covid_final_df.head()"
   ]
  },
  {
   "cell_type": "code",
   "execution_count": 19,
   "metadata": {},
   "outputs": [],
   "source": [
    "# Convert string values in 'Accurate_Episode_Date' to datetime (infer datetime format) values:\n",
    "\n",
    "covid_final_df['Accurate_Episode_Date'] = pd.to_datetime(covid_final_df['Accurate_Episode_Date'], infer_datetime_format=True)\n"
   ]
  },
  {
   "cell_type": "code",
   "execution_count": 20,
   "metadata": {},
   "outputs": [],
   "source": [
    "# Sort 'covid_final_df' dataframe by 'Accurate_Episode_Date' and then 'Reporting_PHU':\n",
    "\n",
    "covid_final_df = covid_final_df.sort_values([\"Accurate_Episode_Date\", \"Reporting_PHU\"], ascending = (True, True))\n",
    "\n",
    "# Reset index in dataframe:\n",
    "\n",
    "covid_final_df = covid_final_df.reset_index(drop=True)\n"
   ]
  },
  {
   "cell_type": "code",
   "execution_count": 21,
   "metadata": {},
   "outputs": [
    {
     "data": {
      "text/html": [
       "<div>\n",
       "<style scoped>\n",
       "    .dataframe tbody tr th:only-of-type {\n",
       "        vertical-align: middle;\n",
       "    }\n",
       "\n",
       "    .dataframe tbody tr th {\n",
       "        vertical-align: top;\n",
       "    }\n",
       "\n",
       "    .dataframe thead th {\n",
       "        text-align: right;\n",
       "    }\n",
       "</style>\n",
       "<table border=\"1\" class=\"dataframe\">\n",
       "  <thead>\n",
       "    <tr style=\"text-align: right;\">\n",
       "      <th></th>\n",
       "      <th>Reporting_PHU</th>\n",
       "      <th>Accurate_Episode_Date</th>\n",
       "      <th>Count</th>\n",
       "      <th>Reporting_PHU_Latitude</th>\n",
       "      <th>Reporting_PHU_Longitude</th>\n",
       "    </tr>\n",
       "  </thead>\n",
       "  <tbody>\n",
       "    <tr>\n",
       "      <td>0</td>\n",
       "      <td>Peel Public Health</td>\n",
       "      <td>2020-01-19</td>\n",
       "      <td>1</td>\n",
       "      <td>43.647471</td>\n",
       "      <td>-79.708893</td>\n",
       "    </tr>\n",
       "    <tr>\n",
       "      <td>1</td>\n",
       "      <td>Toronto Public Health</td>\n",
       "      <td>2020-01-21</td>\n",
       "      <td>1</td>\n",
       "      <td>43.656591</td>\n",
       "      <td>-79.379358</td>\n",
       "    </tr>\n",
       "    <tr>\n",
       "      <td>2</td>\n",
       "      <td>Toronto Public Health</td>\n",
       "      <td>2020-01-22</td>\n",
       "      <td>1</td>\n",
       "      <td>43.656591</td>\n",
       "      <td>-79.379358</td>\n",
       "    </tr>\n",
       "    <tr>\n",
       "      <td>3</td>\n",
       "      <td>Middlesex-London Health Unit</td>\n",
       "      <td>2020-01-24</td>\n",
       "      <td>1</td>\n",
       "      <td>42.981468</td>\n",
       "      <td>-81.254016</td>\n",
       "    </tr>\n",
       "    <tr>\n",
       "      <td>4</td>\n",
       "      <td>Hastings and Prince Edward Counties Health Unit</td>\n",
       "      <td>2020-02-01</td>\n",
       "      <td>1</td>\n",
       "      <td>44.186674</td>\n",
       "      <td>-77.391446</td>\n",
       "    </tr>\n",
       "  </tbody>\n",
       "</table>\n",
       "</div>"
      ],
      "text/plain": [
       "                                     Reporting_PHU Accurate_Episode_Date  \\\n",
       "0                               Peel Public Health            2020-01-19   \n",
       "1                            Toronto Public Health            2020-01-21   \n",
       "2                            Toronto Public Health            2020-01-22   \n",
       "3                     Middlesex-London Health Unit            2020-01-24   \n",
       "4  Hastings and Prince Edward Counties Health Unit            2020-02-01   \n",
       "\n",
       "   Count  Reporting_PHU_Latitude  Reporting_PHU_Longitude  \n",
       "0      1               43.647471               -79.708893  \n",
       "1      1               43.656591               -79.379358  \n",
       "2      1               43.656591               -79.379358  \n",
       "3      1               42.981468               -81.254016  \n",
       "4      1               44.186674               -77.391446  "
      ]
     },
     "execution_count": 21,
     "metadata": {},
     "output_type": "execute_result"
    }
   ],
   "source": [
    "covid_final_df.head()"
   ]
  },
  {
   "cell_type": "code",
   "execution_count": 22,
   "metadata": {},
   "outputs": [],
   "source": [
    "# Get date of first case and convert date to string (to be used later in chart title):\n",
    "\n",
    "first_date = covid_final_df['Accurate_Episode_Date'][0].strftime('%d %B')\n",
    "\n",
    "# If first_date string includes a leading 0 (e.g. '01 January'), then remove leading 0 from first_date string:\n",
    "\n",
    "if first_date[0] == '0':\n",
    "    first_date = first_date[1:]\n"
   ]
  },
  {
   "cell_type": "code",
   "execution_count": 23,
   "metadata": {},
   "outputs": [],
   "source": [
    "# Convert all datetime values to string values (only day and month) to enable plotly time-series plot:\n",
    "\n",
    "covid_final_df['Accurate_Episode_Date'] = covid_final_df.Accurate_Episode_Date.dt.strftime('%d %b')\n"
   ]
  },
  {
   "cell_type": "code",
   "execution_count": 24,
   "metadata": {},
   "outputs": [],
   "source": [
    "# Rename columns so that map is easier to understand:\n",
    "\n",
    "covid_final_df.columns = ['Public Health Unit', 'Date', 'Number of Cases', 'PHU Latitude', 'PHU Longitude']\n"
   ]
  },
  {
   "cell_type": "code",
   "execution_count": 25,
   "metadata": {},
   "outputs": [],
   "source": [
    "# Get today's date (to be used as part of chart title):\n",
    "\n",
    "current_date = datetime.today().strftime('%d %B')\n",
    "\n",
    "# If current date includes a leading 0 (e.g. '04 May'), then remove leading 0 from current_date string:\n",
    "\n",
    "if current_date[0] == '0':\n",
    "    current_date = current_date[1:]\n"
   ]
  },
  {
   "cell_type": "code",
   "execution_count": null,
   "metadata": {},
   "outputs": [],
   "source": [
    "# Specify all parameters for map visualization:\n",
    "\n",
    "fig = px.scatter_mapbox(covid_final_df, \n",
    "                     size=\"Number of Cases\",\n",
    "                     hover_name=\"Public Health Unit\",\n",
    "                     animation_frame=\"Date\",\n",
    "                     lat = \"PHU Latitude\",\n",
    "                     lon = \"PHU Longitude\",\n",
    "                     color_discrete_sequence=[\"crimson\"],\n",
    "                     title = \"Interactive Map of Coronavirus Cases in Ontario (%s - %s 2020)\" %(first_date, current_date),\n",
    "                     zoom=5, \n",
    "                     height=600)\n",
    "\n",
    "# Use Open Street Map as base map:\n",
    "\n",
    "fig.update_layout(mapbox_style=\"open-street-map\")\n",
    "\n",
    "# Adjust margins on top, left, and right:\n",
    "\n",
    "fig.update_layout(margin={\"r\":150,\"t\":40,\"l\":150,\"b\":0})\n",
    "\n",
    "# Center title and increase font size:\n",
    "\n",
    "fig.update_layout(title={'x':0.5,'xanchor':'center','font':{'size':20}})\n",
    "\n",
    "# Increase frame duration so that length of time on each frame is increased (in milliseconds)\n",
    "\n",
    "fig.layout.updatemenus[0].buttons[0].args[1]['frame']['duration'] = 200\n",
    "\n",
    "# Increase transition duration so that length of time between frames is increased (in milliseconds)\n",
    "\n",
    "fig.layout.updatemenus[0].buttons[0].args[1]['transition']['duration'] = 200\n",
    "\n",
    "fig.show()\n"
   ]
  },
  {
   "cell_type": "code",
   "execution_count": 27,
   "metadata": {},
   "outputs": [],
   "source": [
    "# Create html file featuring chart to use on webpage:\n",
    "\n",
    "# Source: https://towardsdatascience.com/how-to-create-a-plotly-visualization-and-embed-it-on-websites-517c1a78568b\n",
    "# Also see: https://plotly.com/chart-studio-help/embed-graphs-in-websites/\n",
    "\n",
    "# Ensure that filename is 'index.html'\n",
    "# Parameter 'auto_open' refers to whether the html file will automatically open in a new tab\n",
    "# Parameter 'auto-play' refers to whether the html file (and animation) will automatically play when file is opened\n",
    "\n",
    "pio.write_html(fig, file='filepath/index.html', auto_open=False, auto_play=False)\n"
   ]
  },
  {
   "cell_type": "code",
   "execution_count": 28,
   "metadata": {},
   "outputs": [],
   "source": [
    "# To add a footer to the 'index.html' file, use the following steps:\n",
    "\n",
    "# Open the 'index.html' file and load it in Beautiful Soup:\n",
    "\n",
    "with open(\"filepath/index.html\") as inf:\n",
    "    txt = inf.read()\n",
    "    soup = bs4.BeautifulSoup(txt)\n",
    "    "
   ]
  },
  {
   "cell_type": "code",
   "execution_count": 29,
   "metadata": {},
   "outputs": [],
   "source": [
    "# Convert the Beautiful Soup file to a string:\n",
    "\n",
    "html_text = str(soup)\n"
   ]
  },
  {
   "cell_type": "code",
   "execution_count": 30,
   "metadata": {},
   "outputs": [],
   "source": [
    "# Specify the text to be replaced in the 'index.html' file (specify the html footer here):\n",
    "\n",
    "old_text = '\\n</body>\\n</html>'\n",
    "new_text = '<footer><p><a style=\"text-decoration:none; font-family:verdana; font-size:15px; color:#403E3E\" target=\"_blank\"> <br/><br/><br/>This is an interactive map of coronavirus cases in Ontario, Canada, as reported by Public Health Units (see below for source of data). Press the play button to see a time-lapse animation of the location of cases, and use the scroll wheel on your mouse to zoom in and out of the map. Hover over specific points on the map to see more information. <br/><br/><br/> </a><a style=\"text-decoration:none; font-family:verdana; font-size:18px; color:#62605F\" href=\"https://chandana.ca/\" target=\"_blank\">Home&emsp;|</a><a style=\"text-decoration:none; font-family:verdana; font-size:18px; color:#62605F\" href=\"https://data.ontario.ca/dataset/confirmed-positive-cases-of-covid-19-in-ontario\" target=\"_blank\">&emsp;Data Source&emsp;|</a><a style=\"text-decoration:none; font-family:verdana; font-size:18px; color:#62605F\" href=\"https://github.com/chandana-karunaratne/coronamap/blob/master/COVID_Analysis_GitHub.ipynb\" target=\"_blank\">&emsp;Source Code</a>  </p></footer></body></html>'\n",
    "\n",
    "# Replace the old text with the new text (featuring the footer) in the html_text file:\n",
    "\n",
    "html_text = html_text.replace(old_text, new_text)\n"
   ]
  },
  {
   "cell_type": "code",
   "execution_count": 31,
   "metadata": {},
   "outputs": [],
   "source": [
    "# Save html_text as 'index.html' file:\n",
    "\n",
    "with open(\"filepath/index.html\", \"w\") as file:\n",
    "    file.write(html_text)\n",
    "    "
   ]
  },
  {
   "cell_type": "code",
   "execution_count": null,
   "metadata": {},
   "outputs": [],
   "source": []
  },
  {
   "cell_type": "code",
   "execution_count": 32,
   "metadata": {},
   "outputs": [],
   "source": [
    "# Sources:\n",
    "# 1) https://data.ontario.ca/dataset/confirmed-positive-cases-of-covid-19-in-ontario\n",
    "# 2) https://towardsdatascience.com/how-to-create-a-plotly-visualization-and-embed-it-on-websites-517c1a78568b\n",
    "# 3) https://plotly.com/python/scatter-plots-on-maps/\n",
    "# 4) https://plotly.com/python/bubble-maps/\n",
    "# 5) https://plotly.com/python-api-reference/generated/plotly.express.scatter_geo.html\n",
    "# 6) https://plotly.com/python/mapbox-layers/\n",
    "# 7) https://www.youtube.com/watch?v=RCUrpCpGZ5o&feature=youtu.be\n",
    "# 8) https://github.com/Coding-with-Adam/Dash-by-Plotly/blob/master/Plotly_Graphs/Animated_Scatter/gender_ineq.py\n",
    "# 9) https://github.com/plotly/plotly.py/pull/1447/commits/b8a731ea6e0d56203833c10e90926473ed783032\n",
    "# 10) https://docs.python.org/3/library/datetime.html\n",
    "# 11) https://stackoverflow.com/questions/35355225/edit-and-create-html-file-using-python\n",
    "# 12) https://stackoverflow.com/questions/16523939/how-to-write-and-save-html-file-in-python\n",
    "# 13) https://medium.com/@Alexander_H/removing-characters-before-after-and-in-the-middle-of-strings-fb4930cce76a\n",
    "# 14) https://datatofish.com/load-json-pandas-dataframe/\n",
    "# 15) https://stackoverflow.com/questions/30088006/loading-a-file-with-more-than-one-line-of-json-into-pandas\n",
    "# 16) https://docs.ckan.org/en/latest/maintaining/datastore.html\n",
    "# 17) https://stackoverflow.com/questions/3969726/attributeerror-module-object-has-no-attribute-urlopen\n"
   ]
  },
  {
   "cell_type": "code",
   "execution_count": null,
   "metadata": {},
   "outputs": [],
   "source": []
  }
 ],
 "metadata": {
  "kernelspec": {
   "display_name": "Python 3",
   "language": "python",
   "name": "python3"
  },
  "language_info": {
   "codemirror_mode": {
    "name": "ipython",
    "version": 3
   },
   "file_extension": ".py",
   "mimetype": "text/x-python",
   "name": "python",
   "nbconvert_exporter": "python",
   "pygments_lexer": "ipython3",
   "version": "3.7.4"
  }
 },
 "nbformat": 4,
 "nbformat_minor": 2
}
